{
 "cells": [
  {
   "cell_type": "code",
   "execution_count": 1,
   "metadata": {},
   "outputs": [],
   "source": [
    "import pandas as pd\n",
    "import statistics as st\n",
    "import scipy\n",
    "from scipy.stats import chi2_contingency\n",
    "import statsmodels.api as sm\n",
    "import numpy as np\n",
    "from scipy.stats import mannwhitneyu\n",
    "from scipy.stats import ranksums\n"
   ]
  },
  {
   "cell_type": "code",
   "execution_count": 415,
   "metadata": {},
   "outputs": [],
   "source": [
    "# I define a method to run ranksum test quickly and get desired output\n",
    "def rank(group1, group2, alt = 'two-sided', norm = False):\n",
    "    print ('group_1 value counts:', group1.value_counts(normalize = norm).sort_index(),sep='\\n' ) \n",
    "    print ('---')\n",
    "    print ('group_2 value counts:', group2.value_counts(normalize = norm).sort_index(),sep='\\n'  ) \n",
    "    print ('---')\n",
    "    # Perform the Mann-Whitney U test\n",
    "    statistic, p_value = mannwhitneyu(group1, group2, alternative = alt)\n",
    "    print ('Mann-Whitney U statistic:', statistic, ' ----- p_value:', p_value)\n",
    "    return statistic, p_value"
   ]
  },
  {
   "cell_type": "code",
   "execution_count": 128,
   "metadata": {},
   "outputs": [],
   "source": [
    "#read data\n",
    "df = pd.read_excel('gender_v_consistency.xlsx')"
   ]
  },
  {
   "cell_type": "code",
   "execution_count": null,
   "metadata": {},
   "outputs": [],
   "source": [
    "#define groups to compare. Here I will compare how consistency change with gender\n",
    "group1 = df [df ['cons'] == 1]['kadin']\n",
    "group2 = df [df ['cons'] == 0]['kadin']\n",
    "(statistic, p_value) = rank(group1, group2)"
   ]
  },
  {
   "cell_type": "code",
   "execution_count": 273,
   "metadata": {},
   "outputs": [],
   "source": [
    "#empty dictionary\n",
    "consistency_rank = {}"
   ]
  },
  {
   "cell_type": "code",
   "execution_count": 279,
   "metadata": {},
   "outputs": [],
   "source": [
    "#fill that  dict with desired output\n",
    "consistency_rank['Test Question Consistency across GENDER']['#consistent male'] = group1.value_counts().to_dict()[0]\n",
    "consistency_rank['Test Question Consistency across GENDER']['#consistent female'] = group1.value_counts().to_dict()[1]\n",
    "consistency_rank['Test Question Consistency across GENDER']['#inconsistent male'] = group2.value_counts().to_dict()[0]\n",
    "consistency_rank['Test Question Consistency across GENDER']['#inconsistent female'] = group2.value_counts().to_dict()[1]\n"
   ]
  },
  {
   "cell_type": "code",
   "execution_count": null,
   "metadata": {},
   "outputs": [],
   "source": [
    "#convert dict to dataframe\n",
    "pd.DataFrame.from_dict({(i): consistency_rank[i] \n",
    "                           for i in consistency_rank.keys() \n",
    "                           },\n",
    "                       orient='index')"
   ]
  }
 ],
 "metadata": {
  "kernelspec": {
   "display_name": "base",
   "language": "python",
   "name": "python3"
  },
  "language_info": {
   "codemirror_mode": {
    "name": "ipython",
    "version": 3
   },
   "file_extension": ".py",
   "mimetype": "text/x-python",
   "name": "python",
   "nbconvert_exporter": "python",
   "pygments_lexer": "ipython3",
   "version": "3.9.12"
  },
  "orig_nbformat": 4
 },
 "nbformat": 4,
 "nbformat_minor": 2
}
